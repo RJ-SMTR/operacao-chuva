{
 "cells": [
  {
   "cell_type": "markdown",
   "id": "3c799e15-903a-42f0-b788-5d6cba444184",
   "metadata": {},
   "source": [
    "## Informativo de Operação Irregular\n",
    "\n",
    "![Painel](painel_tempo_real.png)"
   ]
  },
  {
   "cell_type": "markdown",
   "id": "2948b599-3506-4b98-9722-7f6ebae307a5",
   "metadata": {},
   "source": [
    "**Perguntas-chave**\n",
    "\n",
    "- Quais linhas **precisam** ser desviadas?\n",
    "  - Linhas afetadas (priorização: quantos passageiros carregam? quantos onibus estão operacionais?)\n",
    "- Para **onde** pode ser desviado?\n",
    "  - Onde estão os alagamentos?\n",
    "  - Onde tem menos trânsito?\n",
    "\n",
    "---\n",
    "\n",
    "**Status da Operação:**\n",
    "\n",
    "- Consórcio\n",
    "- Linha\n",
    "- Status: Crítica, Atenção, Regular\n",
    "- Índice de operação (# veiculos atual / historico)\n",
    "- Índice de alagamento ()\n",
    "\n",
    "**O que é um veículo operante?**\n",
    "\n",
    "- Movimentação nos ultimos 20 minutos"
   ]
  },
  {
   "cell_type": "code",
   "execution_count": 2,
   "id": "e65a4cab-94f4-4cf0-b9e5-4093272612d9",
   "metadata": {},
   "outputs": [],
   "source": [
    "import basedosdados as bd\n",
    "from zipfile import ZipFile"
   ]
  },
  {
   "cell_type": "code",
   "execution_count": 5,
   "id": "22ab30ce-c08a-4690-94d1-9aa5afafa606",
   "metadata": {},
   "outputs": [
    {
     "ename": "FileNotFoundError",
     "evalue": "[Errno 2] No such file or directory: '/app-monitoramento/gtfs_combi_2023-12-02Q.zip'",
     "output_type": "error",
     "traceback": [
      "\u001b[0;31m---------------------------------------------------------------------------\u001b[0m",
      "\u001b[0;31mFileNotFoundError\u001b[0m                         Traceback (most recent call last)",
      "Cell \u001b[0;32mIn[5], line 1\u001b[0m\n\u001b[0;32m----> 1\u001b[0m \u001b[38;5;28;01mwith\u001b[39;00m \u001b[43mZipFile\u001b[49m\u001b[43m(\u001b[49m\u001b[38;5;124;43m\"\u001b[39;49m\u001b[38;5;124;43m/app-monitoramento/gtfs_combi_2023-12-02Q.zip\u001b[39;49m\u001b[38;5;124;43m\"\u001b[39;49m\u001b[43m)\u001b[49m \u001b[38;5;28;01mas\u001b[39;00m myzip:\n\u001b[1;32m      2\u001b[0m     shapes_df \u001b[38;5;241m=\u001b[39m pd\u001b[38;5;241m.\u001b[39mread_csv(myzip\u001b[38;5;241m.\u001b[39mopen(\u001b[38;5;124m\"\u001b[39m\u001b[38;5;124mshapes.txt\u001b[39m\u001b[38;5;124m\"\u001b[39m))\n\u001b[1;32m      4\u001b[0m shapes_df \u001b[38;5;241m=\u001b[39m pd\u001b[38;5;241m.\u001b[39mread_csv(myzip\u001b[38;5;241m.\u001b[39mopen(\u001b[38;5;124m\"\u001b[39m\u001b[38;5;124mshapes.txt\u001b[39m\u001b[38;5;124m\"\u001b[39m), dtype\u001b[38;5;241m=\u001b[39m{\n\u001b[1;32m      5\u001b[0m         \u001b[38;5;124m'\u001b[39m\u001b[38;5;124mshape_id\u001b[39m\u001b[38;5;124m'\u001b[39m: \u001b[38;5;124m'\u001b[39m\u001b[38;5;124mstr\u001b[39m\u001b[38;5;124m'\u001b[39m, \n\u001b[1;32m      6\u001b[0m         \u001b[38;5;124m'\u001b[39m\u001b[38;5;124mshape_pt_lat\u001b[39m\u001b[38;5;124m'\u001b[39m: \u001b[38;5;124m'\u001b[39m\u001b[38;5;124mfloat\u001b[39m\u001b[38;5;124m'\u001b[39m, \n\u001b[0;32m   (...)\u001b[0m\n\u001b[1;32m      9\u001b[0m         \u001b[38;5;124m'\u001b[39m\u001b[38;5;124mshape_dist_traveled\u001b[39m\u001b[38;5;124m'\u001b[39m: \u001b[38;5;124m'\u001b[39m\u001b[38;5;124mfloat\u001b[39m\u001b[38;5;124m'\u001b[39m,\n\u001b[1;32m     10\u001b[0m     })\n",
      "File \u001b[0;32m/Library/Developer/CommandLineTools/Library/Frameworks/Python3.framework/Versions/3.9/lib/python3.9/zipfile.py:1239\u001b[0m, in \u001b[0;36mZipFile.__init__\u001b[0;34m(self, file, mode, compression, allowZip64, compresslevel, strict_timestamps)\u001b[0m\n\u001b[1;32m   1237\u001b[0m \u001b[38;5;28;01mwhile\u001b[39;00m \u001b[38;5;28;01mTrue\u001b[39;00m:\n\u001b[1;32m   1238\u001b[0m     \u001b[38;5;28;01mtry\u001b[39;00m:\n\u001b[0;32m-> 1239\u001b[0m         \u001b[38;5;28mself\u001b[39m\u001b[38;5;241m.\u001b[39mfp \u001b[38;5;241m=\u001b[39m \u001b[43mio\u001b[49m\u001b[38;5;241;43m.\u001b[39;49m\u001b[43mopen\u001b[49m\u001b[43m(\u001b[49m\u001b[43mfile\u001b[49m\u001b[43m,\u001b[49m\u001b[43m \u001b[49m\u001b[43mfilemode\u001b[49m\u001b[43m)\u001b[49m\n\u001b[1;32m   1240\u001b[0m     \u001b[38;5;28;01mexcept\u001b[39;00m \u001b[38;5;167;01mOSError\u001b[39;00m:\n\u001b[1;32m   1241\u001b[0m         \u001b[38;5;28;01mif\u001b[39;00m filemode \u001b[38;5;129;01min\u001b[39;00m modeDict:\n",
      "\u001b[0;31mFileNotFoundError\u001b[0m: [Errno 2] No such file or directory: '/app-monitoramento/gtfs_combi_2023-12-02Q.zip'"
     ]
    }
   ],
   "source": [
    "with ZipFile(\"/app-monitoramento/gtfs_combi_2023-12-02Q.zip\") as myzip:\n",
    "    shapes_df = pd.read_csv(myzip.open(\"shapes.txt\"))\n",
    "\n",
    "shapes_df = pd.read_csv(myzip.open(\"shapes.txt\"), dtype={\n",
    "        'shape_id': 'str', \n",
    "        'shape_pt_lat': 'float', \n",
    "        'shape_pt_lon': 'float',  \n",
    "        'shape_pt_sequence': 'Int64', \n",
    "        'shape_dist_traveled': 'float',\n",
    "    })\n",
    "\n",
    "shapes_gdf = gpd.GeoDataFrame(\n",
    "    shapes_df, \n",
    "    geometry=gpd.points_from_xy(shapes_df.shape_pt_lon, shapes_df.shape_pt_lat)\n",
    ").set_crs(epsg=4326)"
   ]
  },
  {
   "cell_type": "code",
   "execution_count": 4,
   "id": "fdfbd6b2-30b4-4ee2-b3f2-29eb014991ce",
   "metadata": {},
   "outputs": [
    {
     "name": "stdout",
     "output_type": "stream",
     "text": [
      "/Users/fernandascovino/Projects/prefeitura-rio/analises-interno\n"
     ]
    }
   ],
   "source": [
    "! pwd"
   ]
  },
  {
   "cell_type": "code",
   "execution_count": null,
   "id": "15311952-e5fb-4b3c-8afb-2d346f024e72",
   "metadata": {},
   "outputs": [],
   "source": []
  }
 ],
 "metadata": {
  "kernelspec": {
   "display_name": "Python 3 (ipykernel)",
   "language": "python",
   "name": "python3"
  },
  "language_info": {
   "codemirror_mode": {
    "name": "ipython",
    "version": 3
   },
   "file_extension": ".py",
   "mimetype": "text/x-python",
   "name": "python",
   "nbconvert_exporter": "python",
   "pygments_lexer": "ipython3",
   "version": "3.9.6"
  }
 },
 "nbformat": 4,
 "nbformat_minor": 5
}
