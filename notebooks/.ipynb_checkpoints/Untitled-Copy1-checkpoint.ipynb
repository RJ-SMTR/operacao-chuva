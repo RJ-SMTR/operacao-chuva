{
 "cells": [
  {
   "cell_type": "markdown",
   "id": "3c799e15-903a-42f0-b788-5d6cba444184",
   "metadata": {},
   "source": [
    "## Informativo de Operação Irregular\n",
    "\n",
    "![Painel](painel_tempo_real.png)"
   ]
  },
  {
   "cell_type": "markdown",
   "id": "2948b599-3506-4b98-9722-7f6ebae307a5",
   "metadata": {},
   "source": [
    "**Perguntas-chave**\n",
    "\n",
    "- Quais linhas **precisam** ser desviadas?\n",
    "  - Linhas afetadas (priorização: quantos passageiros carregam? quantos onibus estão operacionais?)\n",
    "- Para **onde** pode ser desviado?\n",
    "  - Onde estão os alagamentos?\n",
    "  - Onde tem menos trânsito?\n",
    "\n",
    "---\n",
    "\n",
    "**Status da Operação:**\n",
    "\n",
    "- Consórcio\n",
    "- Linha\n",
    "- Status: Crítica, Atenção, Regular\n",
    "- Índice de operação (# veiculos atual / historico)\n",
    "- Índice de alagamento ()\n",
    "\n",
    "**O que é um veículo operante?**\n",
    "\n",
    "- Movimentação nos ultimos 20 minutos"
   ]
  },
  {
   "cell_type": "code",
   "execution_count": 9,
   "id": "e65a4cab-94f4-4cf0-b9e5-4093272612d9",
   "metadata": {},
   "outputs": [],
   "source": [
    "import basedosdados as bd\n",
    "from zipfile import ZipFile\n",
    "import pandas as pd\n",
    "import geopandas as gpd\n",
    "\n",
    "# Seta o projeto a ser cobrado\n",
    "bd.config.billing_project_id = \"rj-smtr-dev\""
   ]
  },
  {
   "cell_type": "code",
   "execution_count": 4,
   "id": "22ab30ce-c08a-4690-94d1-9aa5afafa606",
   "metadata": {},
   "outputs": [],
   "source": [
    "with ZipFile(\"gtfs_combi_2023-12-02Q.zip\") as myzip:\n",
    "    shapes_df = pd.read_csv(myzip.open(\"shapes.txt\"))\n",
    "\n",
    "    shapes_df = pd.read_csv(myzip.open(\"shapes.txt\"), dtype={\n",
    "            'shape_id': 'str', \n",
    "            'shape_pt_lat': 'float', \n",
    "            'shape_pt_lon': 'float',  \n",
    "            'shape_pt_sequence': 'Int64', \n",
    "            'shape_dist_traveled': 'float',\n",
    "        })\n",
    "\n",
    "shapes_gdf = gpd.GeoDataFrame(\n",
    "    shapes_df, \n",
    "    geometry=gpd.points_from_xy(shapes_df.shape_pt_lon, shapes_df.shape_pt_lat)\n",
    ").set_crs(epsg=4326)"
   ]
  },
  {
   "cell_type": "code",
   "execution_count": 6,
   "id": "c0e1c76a-7dbd-4388-92fb-852acdd367c1",
   "metadata": {},
   "outputs": [
    {
     "data": {
      "text/html": [
       "<div>\n",
       "<style scoped>\n",
       "    .dataframe tbody tr th:only-of-type {\n",
       "        vertical-align: middle;\n",
       "    }\n",
       "\n",
       "    .dataframe tbody tr th {\n",
       "        vertical-align: top;\n",
       "    }\n",
       "\n",
       "    .dataframe thead th {\n",
       "        text-align: right;\n",
       "    }\n",
       "</style>\n",
       "<table border=\"1\" class=\"dataframe\">\n",
       "  <thead>\n",
       "    <tr style=\"text-align: right;\">\n",
       "      <th></th>\n",
       "      <th>shape_id</th>\n",
       "      <th>shape_pt_sequence</th>\n",
       "      <th>shape_pt_lat</th>\n",
       "      <th>shape_pt_lon</th>\n",
       "      <th>shape_dist_traveled</th>\n",
       "      <th>geometry</th>\n",
       "    </tr>\n",
       "  </thead>\n",
       "  <tbody>\n",
       "    <tr>\n",
       "      <th>0</th>\n",
       "      <td>01gk</td>\n",
       "      <td>1</td>\n",
       "      <td>-22.87638</td>\n",
       "      <td>-43.46371</td>\n",
       "      <td>0.00</td>\n",
       "      <td>POINT (-43.46371 -22.87638)</td>\n",
       "    </tr>\n",
       "    <tr>\n",
       "      <th>1</th>\n",
       "      <td>01gk</td>\n",
       "      <td>2</td>\n",
       "      <td>-22.87553</td>\n",
       "      <td>-43.46372</td>\n",
       "      <td>94.52</td>\n",
       "      <td>POINT (-43.46372 -22.87553)</td>\n",
       "    </tr>\n",
       "    <tr>\n",
       "      <th>2</th>\n",
       "      <td>01gk</td>\n",
       "      <td>3</td>\n",
       "      <td>-22.87556</td>\n",
       "      <td>-43.46543</td>\n",
       "      <td>269.74</td>\n",
       "      <td>POINT (-43.46543 -22.87556)</td>\n",
       "    </tr>\n",
       "    <tr>\n",
       "      <th>3</th>\n",
       "      <td>01gk</td>\n",
       "      <td>4</td>\n",
       "      <td>-22.87567</td>\n",
       "      <td>-43.46973</td>\n",
       "      <td>710.45</td>\n",
       "      <td>POINT (-43.46973 -22.87567)</td>\n",
       "    </tr>\n",
       "    <tr>\n",
       "      <th>4</th>\n",
       "      <td>01gk</td>\n",
       "      <td>5</td>\n",
       "      <td>-22.87570</td>\n",
       "      <td>-43.47027</td>\n",
       "      <td>765.87</td>\n",
       "      <td>POINT (-43.47027 -22.87570)</td>\n",
       "    </tr>\n",
       "  </tbody>\n",
       "</table>\n",
       "</div>"
      ],
      "text/plain": [
       "  shape_id  shape_pt_sequence  shape_pt_lat  shape_pt_lon  \\\n",
       "0     01gk                  1     -22.87638     -43.46371   \n",
       "1     01gk                  2     -22.87553     -43.46372   \n",
       "2     01gk                  3     -22.87556     -43.46543   \n",
       "3     01gk                  4     -22.87567     -43.46973   \n",
       "4     01gk                  5     -22.87570     -43.47027   \n",
       "\n",
       "   shape_dist_traveled                     geometry  \n",
       "0                 0.00  POINT (-43.46371 -22.87638)  \n",
       "1                94.52  POINT (-43.46372 -22.87553)  \n",
       "2               269.74  POINT (-43.46543 -22.87556)  \n",
       "3               710.45  POINT (-43.46973 -22.87567)  \n",
       "4               765.87  POINT (-43.47027 -22.87570)  "
      ]
     },
     "execution_count": 6,
     "metadata": {},
     "output_type": "execute_result"
    }
   ],
   "source": [
    "shapes_gdf.head()"
   ]
  },
  {
   "cell_type": "code",
   "execution_count": 13,
   "id": "a7cdc996-20bb-4187-9245-3e7125ea932c",
   "metadata": {},
   "outputs": [
    {
     "name": "stderr",
     "output_type": "stream",
     "text": [
      "Downloading: 100%|███████████████████████████████████████████████████████████████████████████████| 974/974 [00:09<00:00, 99.47rows/s]"
     ]
    },
    {
     "name": "stdout",
     "output_type": "stream",
     "text": [
      "<class 'pandas.core.frame.DataFrame'>\n",
      "RangeIndex: 974 entries, 0 to 973\n",
      "Data columns (total 7 columns):\n",
      " #   Column          Non-Null Count  Dtype  \n",
      "---  ------          --------------  -----  \n",
      " 0   data_versao     974 non-null    dbdate \n",
      " 1   shape_id        974 non-null    object \n",
      " 2   shape           974 non-null    object \n",
      " 3   shape_distance  974 non-null    float64\n",
      " 4   start_pt        974 non-null    object \n",
      " 5   end_pt          974 non-null    object \n",
      " 6   versao_modelo   974 non-null    object \n",
      "dtypes: dbdate(1), float64(1), object(5)\n",
      "memory usage: 53.4+ KB\n"
     ]
    },
    {
     "name": "stderr",
     "output_type": "stream",
     "text": [
      "\n"
     ]
    }
   ],
   "source": [
    "shapes = bd.read_sql(\"\"\"\n",
    "SELECT\n",
    "  *\n",
    "FROM\n",
    "  `rj-smtr.br_rj_riodejaneiro_gtfs.shapes_geom`\n",
    "WHERE\n",
    "    data_versao = \"2023-12-21\"\n",
    "\"\"\")\n",
    "\n",
    "shapes.info()"
   ]
  },
  {
   "cell_type": "code",
   "execution_count": 26,
   "id": "9b7426c3-c7ea-4bbd-afba-d07a6bc50a1a",
   "metadata": {},
   "outputs": [
    {
     "data": {
      "text/html": [
       "<div>\n",
       "<style scoped>\n",
       "    .dataframe tbody tr th:only-of-type {\n",
       "        vertical-align: middle;\n",
       "    }\n",
       "\n",
       "    .dataframe tbody tr th {\n",
       "        vertical-align: top;\n",
       "    }\n",
       "\n",
       "    .dataframe thead th {\n",
       "        text-align: right;\n",
       "    }\n",
       "</style>\n",
       "<table border=\"1\" class=\"dataframe\">\n",
       "  <thead>\n",
       "    <tr style=\"text-align: right;\">\n",
       "      <th></th>\n",
       "      <th>data_versao</th>\n",
       "      <th>shape_id</th>\n",
       "      <th>shape</th>\n",
       "      <th>shape_distance</th>\n",
       "      <th>start_pt</th>\n",
       "      <th>end_pt</th>\n",
       "      <th>versao_modelo</th>\n",
       "    </tr>\n",
       "  </thead>\n",
       "  <tbody>\n",
       "    <tr>\n",
       "      <th>0</th>\n",
       "      <td>2023-12-21</td>\n",
       "      <td>hj1m</td>\n",
       "      <td>MULTILINESTRING((-43.31258 -23.0066, -43.31258...</td>\n",
       "      <td>6277.5</td>\n",
       "      <td>POINT(-43.31258 -23.0066)</td>\n",
       "      <td>POINT(-43.36616 -23.00101)</td>\n",
       "      <td>be879d5aefab6f53c6bb207078d666928aa1efc4</td>\n",
       "    </tr>\n",
       "    <tr>\n",
       "      <th>1</th>\n",
       "      <td>2023-12-21</td>\n",
       "      <td>bjdi</td>\n",
       "      <td>MULTILINESTRING((-43.17441 -22.96503, -43.1743...</td>\n",
       "      <td>31829.4</td>\n",
       "      <td>POINT(-43.17441 -22.96503)</td>\n",
       "      <td>POINT(-43.18088 -22.79079)</td>\n",
       "      <td>be879d5aefab6f53c6bb207078d666928aa1efc4</td>\n",
       "    </tr>\n",
       "    <tr>\n",
       "      <th>2</th>\n",
       "      <td>2023-12-21</td>\n",
       "      <td>i768</td>\n",
       "      <td>MULTILINESTRING((-43.17441 -22.96503, -43.1743...</td>\n",
       "      <td>33479.3</td>\n",
       "      <td>POINT(-43.17441 -22.96503)</td>\n",
       "      <td>POINT(-43.18088 -22.79079)</td>\n",
       "      <td>be879d5aefab6f53c6bb207078d666928aa1efc4</td>\n",
       "    </tr>\n",
       "    <tr>\n",
       "      <th>3</th>\n",
       "      <td>2023-12-21</td>\n",
       "      <td>6dzv</td>\n",
       "      <td>MULTILINESTRING((-43.17403 -22.90711, -43.1749...</td>\n",
       "      <td>24986.6</td>\n",
       "      <td>POINT(-43.17403 -22.90711)</td>\n",
       "      <td>POINT(-43.18088 -22.79079)</td>\n",
       "      <td>be879d5aefab6f53c6bb207078d666928aa1efc4</td>\n",
       "    </tr>\n",
       "    <tr>\n",
       "      <th>4</th>\n",
       "      <td>2023-12-21</td>\n",
       "      <td>O0809AAA0AVDU01</td>\n",
       "      <td>LINESTRING(-43.68531 -22.91527, -43.68566 -22....</td>\n",
       "      <td>7796.1</td>\n",
       "      <td>POINT(-43.68531 -22.91527)</td>\n",
       "      <td>POINT(-43.65611 -22.88679)</td>\n",
       "      <td>be879d5aefab6f53c6bb207078d666928aa1efc4</td>\n",
       "    </tr>\n",
       "  </tbody>\n",
       "</table>\n",
       "</div>"
      ],
      "text/plain": [
       "  data_versao         shape_id  \\\n",
       "0  2023-12-21             hj1m   \n",
       "1  2023-12-21             bjdi   \n",
       "2  2023-12-21             i768   \n",
       "3  2023-12-21             6dzv   \n",
       "4  2023-12-21  O0809AAA0AVDU01   \n",
       "\n",
       "                                               shape  shape_distance  \\\n",
       "0  MULTILINESTRING((-43.31258 -23.0066, -43.31258...          6277.5   \n",
       "1  MULTILINESTRING((-43.17441 -22.96503, -43.1743...         31829.4   \n",
       "2  MULTILINESTRING((-43.17441 -22.96503, -43.1743...         33479.3   \n",
       "3  MULTILINESTRING((-43.17403 -22.90711, -43.1749...         24986.6   \n",
       "4  LINESTRING(-43.68531 -22.91527, -43.68566 -22....          7796.1   \n",
       "\n",
       "                     start_pt                      end_pt  \\\n",
       "0   POINT(-43.31258 -23.0066)  POINT(-43.36616 -23.00101)   \n",
       "1  POINT(-43.17441 -22.96503)  POINT(-43.18088 -22.79079)   \n",
       "2  POINT(-43.17441 -22.96503)  POINT(-43.18088 -22.79079)   \n",
       "3  POINT(-43.17403 -22.90711)  POINT(-43.18088 -22.79079)   \n",
       "4  POINT(-43.68531 -22.91527)  POINT(-43.65611 -22.88679)   \n",
       "\n",
       "                              versao_modelo  \n",
       "0  be879d5aefab6f53c6bb207078d666928aa1efc4  \n",
       "1  be879d5aefab6f53c6bb207078d666928aa1efc4  \n",
       "2  be879d5aefab6f53c6bb207078d666928aa1efc4  \n",
       "3  be879d5aefab6f53c6bb207078d666928aa1efc4  \n",
       "4  be879d5aefab6f53c6bb207078d666928aa1efc4  "
      ]
     },
     "execution_count": 26,
     "metadata": {},
     "output_type": "execute_result"
    }
   ],
   "source": [
    "shapes.head()"
   ]
  },
  {
   "cell_type": "code",
   "execution_count": 39,
   "id": "5594d671-18fe-4ab4-a05a-6b0cec64e28b",
   "metadata": {},
   "outputs": [
    {
     "data": {
      "text/html": [
       "<div>\n",
       "<style scoped>\n",
       "    .dataframe tbody tr th:only-of-type {\n",
       "        vertical-align: middle;\n",
       "    }\n",
       "\n",
       "    .dataframe tbody tr th {\n",
       "        vertical-align: top;\n",
       "    }\n",
       "\n",
       "    .dataframe thead th {\n",
       "        text-align: right;\n",
       "    }\n",
       "</style>\n",
       "<table border=\"1\" class=\"dataframe\">\n",
       "  <thead>\n",
       "    <tr style=\"text-align: right;\">\n",
       "      <th></th>\n",
       "      <th>4</th>\n",
       "    </tr>\n",
       "  </thead>\n",
       "  <tbody>\n",
       "    <tr>\n",
       "      <th>data_versao</th>\n",
       "      <td>2023-12-21</td>\n",
       "    </tr>\n",
       "    <tr>\n",
       "      <th>shape_id</th>\n",
       "      <td>O0809AAA0AVDU01</td>\n",
       "    </tr>\n",
       "    <tr>\n",
       "      <th>shape</th>\n",
       "      <td>LINESTRING(-43.68531 -22.91527, -43.68566 -22....</td>\n",
       "    </tr>\n",
       "    <tr>\n",
       "      <th>shape_distance</th>\n",
       "      <td>7796.1</td>\n",
       "    </tr>\n",
       "    <tr>\n",
       "      <th>start_pt</th>\n",
       "      <td>POINT(-43.68531 -22.91527)</td>\n",
       "    </tr>\n",
       "    <tr>\n",
       "      <th>end_pt</th>\n",
       "      <td>POINT(-43.65611 -22.88679)</td>\n",
       "    </tr>\n",
       "    <tr>\n",
       "      <th>versao_modelo</th>\n",
       "      <td>be879d5aefab6f53c6bb207078d666928aa1efc4</td>\n",
       "    </tr>\n",
       "  </tbody>\n",
       "</table>\n",
       "</div>"
      ],
      "text/plain": [
       "                                                                4\n",
       "data_versao                                            2023-12-21\n",
       "shape_id                                          O0809AAA0AVDU01\n",
       "shape           LINESTRING(-43.68531 -22.91527, -43.68566 -22....\n",
       "shape_distance                                             7796.1\n",
       "start_pt                               POINT(-43.68531 -22.91527)\n",
       "end_pt                                 POINT(-43.65611 -22.88679)\n",
       "versao_modelo            be879d5aefab6f53c6bb207078d666928aa1efc4"
      ]
     },
     "execution_count": 39,
     "metadata": {},
     "output_type": "execute_result"
    }
   ],
   "source": [
    "shapes_gdf["
   ]
  },
  {
   "cell_type": "code",
   "execution_count": 43,
   "id": "4d811333-a2b8-4a7a-9418-9cc96dc11178",
   "metadata": {},
   "outputs": [
    {
     "name": "stdout",
     "output_type": "stream",
     "text": [
      "<class 'geopandas.geodataframe.GeoDataFrame'>\n",
      "RangeIndex: 974 entries, 0 to 973\n",
      "Data columns (total 7 columns):\n",
      " #   Column          Non-Null Count  Dtype  \n",
      "---  ------          --------------  -----  \n",
      " 0   data_versao     974 non-null    dbdate \n",
      " 1   shape_id        974 non-null    object \n",
      " 2   shape           974 non-null    object \n",
      " 3   shape_distance  974 non-null    float64\n",
      " 4   start_pt        974 non-null    object \n",
      " 5   end_pt          974 non-null    object \n",
      " 6   versao_modelo   974 non-null    object \n",
      "dtypes: dbdate(1), float64(1), object(5)\n",
      "memory usage: 53.4+ KB\n"
     ]
    }
   ],
   "source": [
    "from shapely.wkt import loads\n",
    "\n",
    "shapes_gdf = gpd.GeoDataFrame(shapes)\n",
    "shapes_gdf.shape =  shapes_gdf['shape'].apply(loads)\n",
    "\n",
    "shapes_gdf.info()"
   ]
  },
  {
   "cell_type": "code",
   "execution_count": 47,
   "id": "4049aa77-c6b0-4733-b82f-f639e78220b4",
   "metadata": {},
   "outputs": [
    {
     "name": "stdout",
     "output_type": "stream",
     "text": [
      "Requirement already satisfied: gtfs_functions in /Users/fernandascovino/Projects/prefeitura-rio/analises-interno/.venv/lib/python3.9/site-packages (2.1)\n",
      "Requirement already satisfied: branca>=0.6.0 in /Users/fernandascovino/Projects/prefeitura-rio/analises-interno/.venv/lib/python3.9/site-packages (from gtfs_functions) (0.7.0)\n",
      "Requirement already satisfied: folium>=0.14.0 in /Users/fernandascovino/Projects/prefeitura-rio/analises-interno/.venv/lib/python3.9/site-packages (from gtfs_functions) (0.15.1)\n",
      "Requirement already satisfied: geopandas in /Users/fernandascovino/Projects/prefeitura-rio/analises-interno/.venv/lib/python3.9/site-packages (from gtfs_functions) (0.14.2)\n",
      "Requirement already satisfied: jenkspy>=0.3.2 in /Users/fernandascovino/Projects/prefeitura-rio/analises-interno/.venv/lib/python3.9/site-packages (from gtfs_functions) (0.4.0)\n",
      "Requirement already satisfied: numpy in /Users/fernandascovino/Projects/prefeitura-rio/analises-interno/.venv/lib/python3.9/site-packages (from gtfs_functions) (1.25.2)\n",
      "Requirement already satisfied: pandas in /Users/fernandascovino/Projects/prefeitura-rio/analises-interno/.venv/lib/python3.9/site-packages (from gtfs_functions) (1.5.3)\n",
      "Requirement already satisfied: pendulum>=2.0.0 in /Users/fernandascovino/Projects/prefeitura-rio/analises-interno/.venv/lib/python3.9/site-packages (from gtfs_functions) (3.0.0)\n",
      "Requirement already satisfied: plotly>=5.13.0 in /Users/fernandascovino/Projects/prefeitura-rio/analises-interno/.venv/lib/python3.9/site-packages (from gtfs_functions) (5.16.1)\n",
      "Requirement already satisfied: shapely in /Users/fernandascovino/Projects/prefeitura-rio/analises-interno/.venv/lib/python3.9/site-packages (from gtfs_functions) (1.8.5.post1)\n",
      "Requirement already satisfied: unicode>=2.9 in /Users/fernandascovino/Projects/prefeitura-rio/analises-interno/.venv/lib/python3.9/site-packages (from gtfs_functions) (2.9)\n",
      "Requirement already satisfied: utm>=0.7.0 in /Users/fernandascovino/Projects/prefeitura-rio/analises-interno/.venv/lib/python3.9/site-packages (from gtfs_functions) (0.7.0)\n",
      "Requirement already satisfied: jinja2 in /Users/fernandascovino/Projects/prefeitura-rio/analises-interno/.venv/lib/python3.9/site-packages (from branca>=0.6.0->gtfs_functions) (3.0.3)\n",
      "Requirement already satisfied: requests in /Users/fernandascovino/Projects/prefeitura-rio/analises-interno/.venv/lib/python3.9/site-packages (from folium>=0.14.0->gtfs_functions) (2.31.0)\n",
      "Requirement already satisfied: xyzservices in /Users/fernandascovino/Projects/prefeitura-rio/analises-interno/.venv/lib/python3.9/site-packages (from folium>=0.14.0->gtfs_functions) (2023.10.1)\n",
      "Requirement already satisfied: python-dateutil>=2.6 in /Users/fernandascovino/Projects/prefeitura-rio/analises-interno/.venv/lib/python3.9/site-packages (from pendulum>=2.0.0->gtfs_functions) (2.8.2)\n",
      "Requirement already satisfied: tzdata>=2020.1 in /Users/fernandascovino/Projects/prefeitura-rio/analises-interno/.venv/lib/python3.9/site-packages (from pendulum>=2.0.0->gtfs_functions) (2023.4)\n",
      "Requirement already satisfied: time-machine>=2.6.0 in /Users/fernandascovino/Projects/prefeitura-rio/analises-interno/.venv/lib/python3.9/site-packages (from pendulum>=2.0.0->gtfs_functions) (2.13.0)\n",
      "Requirement already satisfied: tenacity>=6.2.0 in /Users/fernandascovino/Projects/prefeitura-rio/analises-interno/.venv/lib/python3.9/site-packages (from plotly>=5.13.0->gtfs_functions) (8.2.3)\n",
      "Requirement already satisfied: packaging in /Users/fernandascovino/Projects/prefeitura-rio/analises-interno/.venv/lib/python3.9/site-packages (from plotly>=5.13.0->gtfs_functions) (23.1)\n",
      "Requirement already satisfied: fiona>=1.8.21 in /Users/fernandascovino/Projects/prefeitura-rio/analises-interno/.venv/lib/python3.9/site-packages (from geopandas->gtfs_functions) (1.9.5)\n",
      "Requirement already satisfied: pyproj>=3.3.0 in /Users/fernandascovino/Projects/prefeitura-rio/analises-interno/.venv/lib/python3.9/site-packages (from geopandas->gtfs_functions) (3.6.1)\n",
      "Requirement already satisfied: pytz>=2020.1 in /Users/fernandascovino/Projects/prefeitura-rio/analises-interno/.venv/lib/python3.9/site-packages (from pandas->gtfs_functions) (2023.3.post1)\n",
      "Requirement already satisfied: attrs>=19.2.0 in /Users/fernandascovino/Projects/prefeitura-rio/analises-interno/.venv/lib/python3.9/site-packages (from fiona>=1.8.21->geopandas->gtfs_functions) (23.1.0)\n",
      "Requirement already satisfied: certifi in /Users/fernandascovino/Projects/prefeitura-rio/analises-interno/.venv/lib/python3.9/site-packages (from fiona>=1.8.21->geopandas->gtfs_functions) (2023.7.22)\n",
      "Requirement already satisfied: click~=8.0 in /Users/fernandascovino/Projects/prefeitura-rio/analises-interno/.venv/lib/python3.9/site-packages (from fiona>=1.8.21->geopandas->gtfs_functions) (8.0.3)\n",
      "Requirement already satisfied: click-plugins>=1.0 in /Users/fernandascovino/Projects/prefeitura-rio/analises-interno/.venv/lib/python3.9/site-packages (from fiona>=1.8.21->geopandas->gtfs_functions) (1.1.1)\n",
      "Requirement already satisfied: cligj>=0.5 in /Users/fernandascovino/Projects/prefeitura-rio/analises-interno/.venv/lib/python3.9/site-packages (from fiona>=1.8.21->geopandas->gtfs_functions) (0.7.2)\n",
      "Requirement already satisfied: six in /Users/fernandascovino/Projects/prefeitura-rio/analises-interno/.venv/lib/python3.9/site-packages (from fiona>=1.8.21->geopandas->gtfs_functions) (1.16.0)\n",
      "Requirement already satisfied: setuptools in /Users/fernandascovino/Projects/prefeitura-rio/analises-interno/.venv/lib/python3.9/site-packages (from fiona>=1.8.21->geopandas->gtfs_functions) (58.0.4)\n",
      "Requirement already satisfied: importlib-metadata in /Users/fernandascovino/Projects/prefeitura-rio/analises-interno/.venv/lib/python3.9/site-packages (from fiona>=1.8.21->geopandas->gtfs_functions) (4.13.0)\n",
      "Requirement already satisfied: MarkupSafe>=2.0 in /Users/fernandascovino/Projects/prefeitura-rio/analises-interno/.venv/lib/python3.9/site-packages (from jinja2->branca>=0.6.0->gtfs_functions) (2.1.3)\n",
      "Requirement already satisfied: charset-normalizer<4,>=2 in /Users/fernandascovino/Projects/prefeitura-rio/analises-interno/.venv/lib/python3.9/site-packages (from requests->folium>=0.14.0->gtfs_functions) (3.2.0)\n",
      "Requirement already satisfied: idna<4,>=2.5 in /Users/fernandascovino/Projects/prefeitura-rio/analises-interno/.venv/lib/python3.9/site-packages (from requests->folium>=0.14.0->gtfs_functions) (3.4)\n",
      "Requirement already satisfied: urllib3<3,>=1.21.1 in /Users/fernandascovino/Projects/prefeitura-rio/analises-interno/.venv/lib/python3.9/site-packages (from requests->folium>=0.14.0->gtfs_functions) (1.26.16)\n",
      "Requirement already satisfied: zipp>=0.5 in /Users/fernandascovino/Projects/prefeitura-rio/analises-interno/.venv/lib/python3.9/site-packages (from importlib-metadata->fiona>=1.8.21->geopandas->gtfs_functions) (3.16.2)\n",
      "\n",
      "\u001b[1m[\u001b[0m\u001b[34;49mnotice\u001b[0m\u001b[1;39;49m]\u001b[0m\u001b[39;49m A new release of pip is available: \u001b[0m\u001b[31;49m23.2.1\u001b[0m\u001b[39;49m -> \u001b[0m\u001b[32;49m23.3.2\u001b[0m\n",
      "\u001b[1m[\u001b[0m\u001b[34;49mnotice\u001b[0m\u001b[1;39;49m]\u001b[0m\u001b[39;49m To update, run: \u001b[0m\u001b[32;49mpip install --upgrade pip\u001b[0m\n"
     ]
    }
   ],
   "source": [
    "! pip install gtfs_functions"
   ]
  },
  {
   "cell_type": "code",
   "execution_count": null,
   "id": "0d253446-a4f5-4b84-9c02-3e7dafb4518e",
   "metadata": {},
   "outputs": [],
   "source": [
    "from gtfs_functions import Feed, map_gdf\n",
    "\n"
   ]
  },
  {
   "cell_type": "code",
   "execution_count": 45,
   "id": "badb9062-dd19-4952-a1b5-5485eec7cadf",
   "metadata": {},
   "outputs": [
    {
     "ename": "ImportError",
     "evalue": "matplotlib is required for plotting when the default backend \"matplotlib\" is selected.",
     "output_type": "error",
     "traceback": [
      "\u001b[0;31m---------------------------------------------------------------------------\u001b[0m",
      "\u001b[0;31mImportError\u001b[0m                               Traceback (most recent call last)",
      "Cell \u001b[0;32mIn[45], line 1\u001b[0m\n\u001b[0;32m----> 1\u001b[0m \u001b[43mshapes\u001b[49m\u001b[38;5;241;43m.\u001b[39;49m\u001b[43mplot\u001b[49m\u001b[43m(\u001b[49m\u001b[43m)\u001b[49m\n",
      "File \u001b[0;32m~/Projects/prefeitura-rio/analises-interno/.venv/lib/python3.9/site-packages/pandas/plotting/_core.py:920\u001b[0m, in \u001b[0;36mPlotAccessor.__call__\u001b[0;34m(self, *args, **kwargs)\u001b[0m\n\u001b[1;32m    919\u001b[0m \u001b[38;5;28;01mdef\u001b[39;00m \u001b[38;5;21m__call__\u001b[39m(\u001b[38;5;28mself\u001b[39m, \u001b[38;5;241m*\u001b[39margs, \u001b[38;5;241m*\u001b[39m\u001b[38;5;241m*\u001b[39mkwargs):\n\u001b[0;32m--> 920\u001b[0m     plot_backend \u001b[38;5;241m=\u001b[39m \u001b[43m_get_plot_backend\u001b[49m\u001b[43m(\u001b[49m\u001b[43mkwargs\u001b[49m\u001b[38;5;241;43m.\u001b[39;49m\u001b[43mpop\u001b[49m\u001b[43m(\u001b[49m\u001b[38;5;124;43m\"\u001b[39;49m\u001b[38;5;124;43mbackend\u001b[39;49m\u001b[38;5;124;43m\"\u001b[39;49m\u001b[43m,\u001b[49m\u001b[43m \u001b[49m\u001b[38;5;28;43;01mNone\u001b[39;49;00m\u001b[43m)\u001b[49m\u001b[43m)\u001b[49m\n\u001b[1;32m    922\u001b[0m     x, y, kind, kwargs \u001b[38;5;241m=\u001b[39m \u001b[38;5;28mself\u001b[39m\u001b[38;5;241m.\u001b[39m_get_call_args(\n\u001b[1;32m    923\u001b[0m         plot_backend\u001b[38;5;241m.\u001b[39m\u001b[38;5;18m__name__\u001b[39m, \u001b[38;5;28mself\u001b[39m\u001b[38;5;241m.\u001b[39m_parent, args, kwargs\n\u001b[1;32m    924\u001b[0m     )\n\u001b[1;32m    926\u001b[0m     kind \u001b[38;5;241m=\u001b[39m \u001b[38;5;28mself\u001b[39m\u001b[38;5;241m.\u001b[39m_kind_aliases\u001b[38;5;241m.\u001b[39mget(kind, kind)\n",
      "File \u001b[0;32m~/Projects/prefeitura-rio/analises-interno/.venv/lib/python3.9/site-packages/pandas/plotting/_core.py:1886\u001b[0m, in \u001b[0;36m_get_plot_backend\u001b[0;34m(backend)\u001b[0m\n\u001b[1;32m   1883\u001b[0m \u001b[38;5;28;01mif\u001b[39;00m backend_str \u001b[38;5;129;01min\u001b[39;00m _backends:\n\u001b[1;32m   1884\u001b[0m     \u001b[38;5;28;01mreturn\u001b[39;00m _backends[backend_str]\n\u001b[0;32m-> 1886\u001b[0m module \u001b[38;5;241m=\u001b[39m \u001b[43m_load_backend\u001b[49m\u001b[43m(\u001b[49m\u001b[43mbackend_str\u001b[49m\u001b[43m)\u001b[49m\n\u001b[1;32m   1887\u001b[0m _backends[backend_str] \u001b[38;5;241m=\u001b[39m module\n\u001b[1;32m   1888\u001b[0m \u001b[38;5;28;01mreturn\u001b[39;00m module\n",
      "File \u001b[0;32m~/Projects/prefeitura-rio/analises-interno/.venv/lib/python3.9/site-packages/pandas/plotting/_core.py:1817\u001b[0m, in \u001b[0;36m_load_backend\u001b[0;34m(backend)\u001b[0m\n\u001b[1;32m   1815\u001b[0m         module \u001b[38;5;241m=\u001b[39m importlib\u001b[38;5;241m.\u001b[39mimport_module(\u001b[38;5;124m\"\u001b[39m\u001b[38;5;124mpandas.plotting._matplotlib\u001b[39m\u001b[38;5;124m\"\u001b[39m)\n\u001b[1;32m   1816\u001b[0m     \u001b[38;5;28;01mexcept\u001b[39;00m \u001b[38;5;167;01mImportError\u001b[39;00m:\n\u001b[0;32m-> 1817\u001b[0m         \u001b[38;5;28;01mraise\u001b[39;00m \u001b[38;5;167;01mImportError\u001b[39;00m(\n\u001b[1;32m   1818\u001b[0m             \u001b[38;5;124m\"\u001b[39m\u001b[38;5;124mmatplotlib is required for plotting when the \u001b[39m\u001b[38;5;124m\"\u001b[39m\n\u001b[1;32m   1819\u001b[0m             \u001b[38;5;124m'\u001b[39m\u001b[38;5;124mdefault backend \u001b[39m\u001b[38;5;124m\"\u001b[39m\u001b[38;5;124mmatplotlib\u001b[39m\u001b[38;5;124m\"\u001b[39m\u001b[38;5;124m is selected.\u001b[39m\u001b[38;5;124m'\u001b[39m\n\u001b[1;32m   1820\u001b[0m         ) \u001b[38;5;28;01mfrom\u001b[39;00m \u001b[38;5;28;01mNone\u001b[39;00m\n\u001b[1;32m   1821\u001b[0m     \u001b[38;5;28;01mreturn\u001b[39;00m module\n\u001b[1;32m   1823\u001b[0m found_backend \u001b[38;5;241m=\u001b[39m \u001b[38;5;28;01mFalse\u001b[39;00m\n",
      "\u001b[0;31mImportError\u001b[0m: matplotlib is required for plotting when the default backend \"matplotlib\" is selected."
     ]
    }
   ],
   "source": [
    "shapes.plot()"
   ]
  },
  {
   "cell_type": "code",
   "execution_count": null,
   "id": "124ad154-34e4-4940-a7ad-e6db01d48b22",
   "metadata": {},
   "outputs": [],
   "source": []
  },
  {
   "cell_type": "code",
   "execution_count": null,
   "id": "1d53dd7f-545d-410c-b165-677c9a5399c6",
   "metadata": {},
   "outputs": [],
   "source": []
  },
  {
   "cell_type": "code",
   "execution_count": null,
   "id": "8f89ab12-184d-4608-9a61-98b8003b336b",
   "metadata": {},
   "outputs": [],
   "source": []
  },
  {
   "cell_type": "code",
   "execution_count": 11,
   "id": "5bd8bfe9-a32a-4786-83c3-6b4709548cd3",
   "metadata": {},
   "outputs": [
    {
     "name": "stderr",
     "output_type": "stream",
     "text": [
      "Downloading: 100%|███████████████████████████████████████████████████████████████████████████████████████████████████████████████████████████| 1/1 [00:00<00:00,  2.41rows/s]"
     ]
    },
    {
     "name": "stdout",
     "output_type": "stream",
     "text": [
      "<class 'pandas.core.frame.DataFrame'>\n",
      "RangeIndex: 1 entries, 0 to 0\n",
      "Data columns (total 1 columns):\n",
      " #   Column  Non-Null Count  Dtype\n",
      "---  ------  --------------  -----\n",
      " 0   f0_     1 non-null      Int64\n",
      "dtypes: Int64(1)\n",
      "memory usage: 137.0 bytes\n"
     ]
    },
    {
     "name": "stderr",
     "output_type": "stream",
     "text": [
      "\n"
     ]
    }
   ],
   "source": [
    "# gps = bd.read_sql(\"\"\"\n",
    "# SELECT\n",
    "#   timestamp_gps,\n",
    "#   ordem as id_veiculo,\n",
    "#   linha as servico,\n",
    "#   latitude,\n",
    "#   longitude\n",
    "# FROM\n",
    "#   `rj-smtr.br_rj_riodejaneiro_onibus_gps.registros`\n",
    "# WHERE\n",
    "#   DATA = CURRENT_DATE(\"America/Sao_Paulo\")\n",
    "#   AND timestamp_gps >= DATETIME_SUB(CURRENT_DATETIME(\"America/Sao_Paulo\"), INTERVAL 15 minute)\n",
    "# \"\"\")\n",
    "\n",
    "gps = bd.read_sql(\"\"\"\n",
    "SELECT\n",
    "  count(*)\n",
    "FROM\n",
    "  `rj-smtr.br_rj_riodejaneiro_veiculos.gps_brt`\n",
    "\"\"\")\n",
    "\n",
    "gps.info()"
   ]
  },
  {
   "cell_type": "code",
   "execution_count": null,
   "id": "177af1e8-d5fa-4c31-851a-451a171b3de2",
   "metadata": {},
   "outputs": [],
   "source": []
  }
 ],
 "metadata": {
  "kernelspec": {
   "display_name": "Python 3 (ipykernel)",
   "language": "python",
   "name": "python3"
  },
  "language_info": {
   "codemirror_mode": {
    "name": "ipython",
    "version": 3
   },
   "file_extension": ".py",
   "mimetype": "text/x-python",
   "name": "python",
   "nbconvert_exporter": "python",
   "pygments_lexer": "ipython3",
   "version": "3.9.6"
  }
 },
 "nbformat": 4,
 "nbformat_minor": 5
}
